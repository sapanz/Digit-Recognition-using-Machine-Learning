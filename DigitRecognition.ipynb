{
 "cells": [
  {
   "cell_type": "markdown",
   "metadata": {
    "colab_type": "text",
    "id": "lE0APQe8bJzj"
   },
   "source": [
    "#A simple convnet on the MNIST dataset\n",
    "\n",
    "There are 70,000 images in MNIST dataset which are numbers from 0-9 having size 28 X 28 each.\n",
    "Our gole is to create a Convolution Neural Network which can classify these images into one of these 10 classes CORRECTLY!\n",
    "\n",
    "We will build it 7 EASY steps so, let's get started!!\n",
    "\n",
    "![alt text](https://www.researchgate.net/profile/Pew-Thian_Yap/publication/224466484/figure/fig7/AS:302648906534920@1449168530938/Sample-images-from-the-MNIST-handwritten-digits-database.png)\n",
    "\n",
    "\n",
    "\n",
    "This is how Machine will read number 8\n",
    "\n",
    "![alt text](https://cdn-images-1.medium.com/max/800/1*zY1qFB9aFfZz66YxxoI2aw.gif)\n",
    "\n"
   ]
  },
  {
   "cell_type": "code",
   "execution_count": 0,
   "metadata": {
    "colab": {
     "base_uri": "https://localhost:8080/",
     "height": 34
    },
    "colab_type": "code",
    "executionInfo": {
     "elapsed": 1751,
     "status": "ok",
     "timestamp": 1537512259168,
     "user": {
      "displayName": "Charmi Chokshi",
      "photoUrl": "//lh4.googleusercontent.com/-tIwAsc-7WUs/AAAAAAAAAAI/AAAAAAAAWas/ld9I8Bwg--Y/s50-c-k-no/photo.jpg",
      "userId": "101083927045647383531"
     },
     "user_tz": -330
    },
    "id": "Q7M6Iw9UdJAa",
    "outputId": "f695853f-de08-4126-a268-41bec31aa3a0"
   },
   "outputs": [
    {
     "name": "stderr",
     "output_type": "stream",
     "text": [
      "Using TensorFlow backend.\n"
     ]
    }
   ],
   "source": [
    "# Import keras, tensorflow and some helpers\n",
    "from __future__ import print_function\n",
    "import keras\n",
    "from keras.datasets import mnist\n",
    "from keras.models import Sequential\n",
    "from keras.layers import Dense, Dropout, Flatten, Activation\n",
    "from keras.layers import Conv2D, MaxPooling2D\n",
    "from keras import backend as Kdff\n",
    "import tensorflow as tf\n",
    "import matplotlib.pyplot as plt\n",
    "import matplotlib.image as mpimg\n",
    "import numpy as np\n",
    "import cv2"
   ]
  },
  {
   "cell_type": "markdown",
   "metadata": {
    "colab_type": "text",
    "id": "wyTSGrkBdTAg"
   },
   "source": [
    "# STEP 1: Load image data from MNIST"
   ]
  },
  {
   "cell_type": "code",
   "execution_count": 0,
   "metadata": {
    "colab": {
     "base_uri": "https://localhost:8080/",
     "height": 362
    },
    "colab_type": "code",
    "executionInfo": {
     "elapsed": 2415,
     "status": "ok",
     "timestamp": 1537512261707,
     "user": {
      "displayName": "Charmi Chokshi",
      "photoUrl": "//lh4.googleusercontent.com/-tIwAsc-7WUs/AAAAAAAAAAI/AAAAAAAAWas/ld9I8Bwg--Y/s50-c-k-no/photo.jpg",
      "userId": "101083927045647383531"
     },
     "user_tz": -330
    },
    "id": "ETqCO_9efgZ3",
    "outputId": "6e73f2d4-31bb-4078-d9d4-23f1297673de"
   },
   "outputs": [
    {
     "data": {
      "image/png": "[encoded data removed]",
      "text/plain": [
       "<matplotlib.figure.Figure at 0x7f3e02a33780>"
      ]
     },
     "metadata": {
      "tags": []
     },
     "output_type": "display_data"
    }
   ],
   "source": [
    "# define parameters for NN\n",
    "img_rows, img_cols = 28, 28\n",
    "batch_size = 128\n",
    "num_classes = 10\n",
    "epochs = 12\n",
    "\n",
    "# load data\n",
    "(x_train, y_train), (x_test, y_test) = mnist.load_data()\n",
    "\n",
    "# let's plot 4 images and their labels\n",
    "plt.subplot(221)\n",
    "plt.imshow(x_train[0], cmap=plt.get_cmap('gray'))\n",
    "plt.title(y_train[0])\n",
    "plt.subplot(222)\n",
    "plt.imshow(x_train[1], cmap=plt.get_cmap('gray'))\n",
    "plt.title(y_train[1])\n",
    "plt.subplot(223)\n",
    "plt.imshow(x_train[2], cmap=plt.get_cmap('gray'))\n",
    "plt.title(y_train[2])\n",
    "plt.subplot(224)\n",
    "plt.imshow(x_train[3], cmap=plt.get_cmap('gray'))\n",
    "plt.title(y_train[3])\n",
    "plt.show()"
   ]
  },
  {
   "cell_type": "markdown",
   "metadata": {
    "colab_type": "text",
    "id": "VkVCc3ujswWj"
   },
   "source": [
    "# STEP 2: Preprocess input data for Keras\n",
    "\n",
    "1. Reshape\n",
    "2. Convert our data type to float32 \n",
    "3. Normalize our data values to the range [0, 1]\n"
   ]
  },
  {
   "cell_type": "code",
   "execution_count": 0,
   "metadata": {
    "colab": {
     "base_uri": "https://localhost:8080/",
     "height": 51
    },
    "colab_type": "code",
    "executionInfo": {
     "elapsed": 1479,
     "status": "ok",
     "timestamp": 1537512263638,
     "user": {
      "displayName": "Charmi Chokshi",
      "photoUrl": "//lh4.googleusercontent.com/-tIwAsc-7WUs/AAAAAAAAAAI/AAAAAAAAWas/ld9I8Bwg--Y/s50-c-k-no/photo.jpg",
      "userId": "101083927045647383531"
     },
     "user_tz": -330
    },
    "id": "kwov12yofkD8",
    "outputId": "8e0bb1cd-a6a9-4a87-deb0-02755af01be3"
   },
   "outputs": [
    {
     "name": "stdout",
     "output_type": "stream",
     "text": [
      "shape of the image before reshaping it:  (28, 28)\n",
      "shape of the image after reshaping it (28, 28, 1)\n"
     ]
    }
   ],
   "source": [
    "print(\"shape of the image before reshaping it: \", x_train[0].shape)\n",
    "\n",
    "if K.image_data_format() == 'channels_first':\n",
    "    x_train = x_train.reshape(x_train.shape[0], 1, img_rows, img_cols)\n",
    "    x_test = x_test.reshape(x_test.shape[0], 1, img_rows, img_cols)\n",
    "    input_shape = (1, img_rows, img_cols)\n",
    "else:\n",
    "    x_train = x_train.reshape(x_train.shape[0], img_rows, img_cols, 1)\n",
    "    x_test = x_test.reshape(x_test.shape[0], img_rows, img_cols, 1)\n",
    "    input_shape = (img_rows, img_cols, 1)\n",
    "\n",
    "print(\"shape of the image after reshaping it\", x_train[0].shape)\n",
    "\n",
    "x_train = x_train.astype('float32')\n",
    "x_test = x_test.astype('float32')\n",
    "x_train /= 255\n",
    "x_test /= 255   "
   ]
  },
  {
   "cell_type": "markdown",
   "metadata": {
    "colab_type": "text",
    "id": "jm1rclgYtdzG"
   },
   "source": [
    " # STEP 3: Preprocess class labels for Keras\n",
    "\n",
    "One hot encoding\n",
    "\n",
    "![alt text](https://www.machinelearningplus.com/wp-content/uploads/2018/03/one-hot-encoding.png)"
   ]
  },
  {
   "cell_type": "code",
   "execution_count": 0,
   "metadata": {
    "colab": {},
    "colab_type": "code",
    "id": "dGyp9AyRfkHv"
   },
   "outputs": [],
   "source": [
    "y_train = keras.utils.to_categorical(y_train, num_classes)\n",
    "y_test = keras.utils.to_categorical(y_test, num_classes)"
   ]
  },
  {
   "cell_type": "markdown",
   "metadata": {
    "colab_type": "text",
    "id": "_4Z-HnQPtyXd"
   },
   "source": [
    "# STEP 4: Define model architecture\n",
    "\n",
    "# ![alt text](https://cdn-images-1.medium.com/max/800/1*bGBijVuJnTRj8025et0mcQ.gif)\n",
    "\n",
    "\n"
   ]
  },
  {
   "cell_type": "code",
   "execution_count": 0,
   "metadata": {
    "colab": {
     "base_uri": "https://localhost:8080/",
     "height": 425
    },
    "colab_type": "code",
    "executionInfo": {
     "elapsed": 1769,
     "status": "ok",
     "timestamp": 1537512266851,
     "user": {
      "displayName": "Charmi Chokshi",
      "photoUrl": "//lh4.googleusercontent.com/-tIwAsc-7WUs/AAAAAAAAAAI/AAAAAAAAWas/ld9I8Bwg--Y/s50-c-k-no/photo.jpg",
      "userId": "101083927045647383531"
     },
     "user_tz": -330
    },
    "id": "EgrQgYOQfkKn",
    "outputId": "0343a4f1-b0ce-40a6-f5ac-600b1eda69ac"
   },
   "outputs": [
    {
     "name": "stdout",
     "output_type": "stream",
     "text": [
      "_________________________________________________________________\n",
      "Layer (type)                 Output Shape              Param #   \n",
      "=================================================================\n",
      "conv2d_1 (Conv2D)            (None, 26, 26, 32)        320       \n",
      "_________________________________________________________________\n",
      "conv2d_2 (Conv2D)            (None, 24, 24, 64)        18496     \n",
      "_________________________________________________________________\n",
      "max_pooling2d_1 (MaxPooling2 (None, 12, 12, 64)        0         \n",
      "_________________________________________________________________\n",
      "dropout_1 (Dropout)          (None, 12, 12, 64)        0         \n",
      "_________________________________________________________________\n",
      "flatten_1 (Flatten)          (None, 9216)              0         \n",
      "_________________________________________________________________\n",
      "dense_1 (Dense)              (None, 128)               1179776   \n",
      "_________________________________________________________________\n",
      "dropout_2 (Dropout)          (None, 128)               0         \n",
      "_________________________________________________________________\n",
      "dense_2 (Dense)              (None, 10)                1290      \n",
      "=================================================================\n",
      "Total params: 1,199,882\n",
      "Trainable params: 1,199,882\n",
      "Non-trainable params: 0\n",
      "_________________________________________________________________\n",
      "None\n"
     ]
    }
   ],
   "source": [
    "# Keras automatically handles the connections between layers.\n",
    "model = Sequential()\n",
    "\n",
    "# number of kernel: 32 | Size: 3 X 3 | Activation function: Relu\n",
    "model.add(Conv2D(32, kernel_size=(3, 3),\n",
    "                 activation='relu',\n",
    "                 input_shape=input_shape))\n",
    "\n",
    "# add more layers\n",
    "model.add(Conv2D(64, (3, 3), activation='relu'))      \n",
    "model.add(MaxPooling2D(pool_size=(2, 2)))\n",
    "\n",
    "# regularizing our model in order to prevent overfitting\n",
    "model.add(Dropout(0.25))\n",
    "\n",
    "# fully connected layer (1-D)\n",
    "model.add(Flatten())\n",
    "\n",
    "model.add(Dense(128, activation='relu'))\n",
    "model.add(Dropout(0.5))\n",
    "\n",
    "# the final layer has an output size of 10, corresponding to the 10 classes of digits\n",
    "model.add(Dense(num_classes, activation='softmax'))\n",
    "\n",
    "print(model.summary())"
   ]
  },
  {
   "cell_type": "markdown",
   "metadata": {
    "colab_type": "text",
    "id": "1Ma_GjCosZ0d"
   },
   "source": [
    "# STEP 5:  Compile model\n"
   ]
  },
  {
   "cell_type": "code",
   "execution_count": 0,
   "metadata": {
    "colab": {},
    "colab_type": "code",
    "id": "qzCe941OfkOY"
   },
   "outputs": [],
   "source": [
    "model.compile(loss=keras.losses.categorical_crossentropy,\n",
    "              optimizer=keras.optimizers.Adadelta(),\n",
    "              metrics=['accuracy'])"
   ]
  },
  {
   "cell_type": "markdown",
   "metadata": {
    "colab_type": "text",
    "id": "ys9N6ZP-uioo"
   },
   "source": [
    "# STEP 6: Fit model on 60k training and Validate it on 10k images\n"
   ]
  },
  {
   "cell_type": "code",
   "execution_count": 0,
   "metadata": {
    "colab": {
     "base_uri": "https://localhost:8080/",
     "height": 442
    },
    "colab_type": "code",
    "executionInfo": {
     "elapsed": 120836,
     "status": "ok",
     "timestamp": 1537512389218,
     "user": {
      "displayName": "Charmi Chokshi",
      "photoUrl": "//lh4.googleusercontent.com/-tIwAsc-7WUs/AAAAAAAAAAI/AAAAAAAAWas/ld9I8Bwg--Y/s50-c-k-no/photo.jpg",
      "userId": "101083927045647383531"
     },
     "user_tz": -330
    },
    "id": "ywozxqf_fkGq",
    "outputId": "6b40d074-d917-45b6-8a70-73d9746cd3e9"
   },
   "outputs": [
    {
     "name": "stdout",
     "output_type": "stream",
     "text": [
      "Train on 60000 samples, validate on 10000 samples\n",
      "Epoch 1/12\n",
      "60000/60000 [==============================] - 12s 199us/step - loss: 0.2790 - acc: 0.9136 - val_loss: 0.0598 - val_acc: 0.9801\n",
      "Epoch 2/12\n",
      "60000/60000 [==============================] - 10s 163us/step - loss: 0.0914 - acc: 0.9723 - val_loss: 0.0449 - val_acc: 0.9849\n",
      "Epoch 3/12\n",
      "60000/60000 [==============================] - 10s 162us/step - loss: 0.0668 - acc: 0.9801 - val_loss: 0.0359 - val_acc: 0.9875\n",
      "Epoch 4/12\n",
      "60000/60000 [==============================] - 10s 163us/step - loss: 0.0574 - acc: 0.9829 - val_loss: 0.0324 - val_acc: 0.9892\n",
      "Epoch 5/12\n",
      "60000/60000 [==============================] - 10s 162us/step - loss: 0.0492 - acc: 0.9857 - val_loss: 0.0306 - val_acc: 0.9895\n",
      "Epoch 6/12\n",
      "60000/60000 [==============================] - 10s 162us/step - loss: 0.0436 - acc: 0.9865 - val_loss: 0.0313 - val_acc: 0.9893\n",
      "Epoch 7/12\n",
      "60000/60000 [==============================] - 10s 163us/step - loss: 0.0369 - acc: 0.9889 - val_loss: 0.0287 - val_acc: 0.9893\n",
      "Epoch 8/12\n",
      "60000/60000 [==============================] - 10s 163us/step - loss: 0.0348 - acc: 0.9892 - val_loss: 0.0317 - val_acc: 0.9900\n",
      "Epoch 9/12\n",
      "60000/60000 [==============================] - 10s 163us/step - loss: 0.0329 - acc: 0.9896 - val_loss: 0.0267 - val_acc: 0.9905\n",
      "Epoch 10/12\n",
      "60000/60000 [==============================] - 10s 163us/step - loss: 0.0311 - acc: 0.9905 - val_loss: 0.0265 - val_acc: 0.9912\n",
      "Epoch 11/12\n",
      "60000/60000 [==============================] - 10s 162us/step - loss: 0.0274 - acc: 0.9914 - val_loss: 0.0283 - val_acc: 0.9903\n",
      "Epoch 12/12\n",
      "60000/60000 [==============================] - 10s 162us/step - loss: 0.0263 - acc: 0.9916 - val_loss: 0.0277 - val_acc: 0.9911\n"
     ]
    }
   ],
   "source": [
    "history = model.fit(x_train, y_train,\n",
    "          batch_size=batch_size,\n",
    "          epochs=epochs,\n",
    "          verbose=1,\n",
    "          validation_data=(x_test, y_test))"
   ]
  },
  {
   "cell_type": "markdown",
   "metadata": {
    "colab_type": "text",
    "id": "kIUDnjVS1YrS"
   },
   "source": [
    "# STEP: 7 Evaluate model on test data\n"
   ]
  },
  {
   "cell_type": "code",
   "execution_count": 0,
   "metadata": {
    "colab": {
     "base_uri": "https://localhost:8080/",
     "height": 51
    },
    "colab_type": "code",
    "executionInfo": {
     "elapsed": 3191,
     "status": "ok",
     "timestamp": 1537512392503,
     "user": {
      "displayName": "Charmi Chokshi",
      "photoUrl": "//lh4.googleusercontent.com/-tIwAsc-7WUs/AAAAAAAAAAI/AAAAAAAAWas/ld9I8Bwg--Y/s50-c-k-no/photo.jpg",
      "userId": "101083927045647383531"
     },
     "user_tz": -330
    },
    "id": "DovM4AWU1Vp2",
    "outputId": "237c1dc8-8f24-4f0e-b3f1-c2f09b52092d"
   },
   "outputs": [
    {
     "name": "stdout",
     "output_type": "stream",
     "text": [
      "Test loss: 0.02765696039420327\n",
      "Test accuracy: 0.9911\n"
     ]
    }
   ],
   "source": [
    "score = model.evaluate(x_test, y_test, verbose=0)\n",
    "print('Test loss:', score[0])\n",
    "print('Test accuracy:', score[1])"
   ]
  },
  {
   "cell_type": "markdown",
   "metadata": {
    "colab_type": "text",
    "id": "3EfQs6UFu88i"
   },
   "source": [
    "# Test it on own image!!\n",
    "\n",
    "1. Create an image in paint\n",
    "2. Upload it here\n",
    "3. Pre-process it\n",
    "4. Evaluate on our model"
   ]
  },
  {
   "cell_type": "code",
   "execution_count": 0,
   "metadata": {
    "colab": {
     "base_uri": "https://localhost:8080/",
     "height": 362
    },
    "colab_type": "code",
    "executionInfo": {
     "elapsed": 1315,
     "status": "ok",
     "timestamp": 1537512393874,
     "user": {
      "displayName": "Charmi Chokshi",
      "photoUrl": "//lh4.googleusercontent.com/-tIwAsc-7WUs/AAAAAAAAAAI/AAAAAAAAWas/ld9I8Bwg--Y/s50-c-k-no/photo.jpg",
      "userId": "101083927045647383531"
     },
     "user_tz": -330
    },
    "id": "XUVo5DhEoYbK",
    "outputId": "67ce0a37-9ff3-4d87-843b-95876d4a9531"
   },
   "outputs": [
    {
     "data": {
      "image/png": "[encoded data removed]",
      "text/plain": [
       "<matplotlib.figure.Figure at 0x7f3db19e93c8>"
      ]
     },
     "metadata": {
      "tags": []
     },
     "output_type": "display_data"
    }
   ],
   "source": [
    "import cv2\n",
    "img = mpimg.imread('1.png')     # read image\n",
    "label = np.array([4])    # assign corect label to it\n",
    "\n",
    "# plot input image and label\n",
    "plt.imshow(img, cmap=plt.get_cmap('gray'))\n",
    "plt.title(label)\n",
    "\n",
    "# pre-process\n",
    "img = cv2.resize(img,(28,28))\n",
    "img = img[:,:,0]\n",
    "img = img.reshape(1, 28, 28,1)\n",
    "\n",
    "label = keras.utils.to_categorical(label, num_classes)"
   ]
  },
  {
   "cell_type": "code",
   "execution_count": 0,
   "metadata": {
    "colab": {
     "base_uri": "https://localhost:8080/",
     "height": 51
    },
    "colab_type": "code",
    "executionInfo": {
     "elapsed": 1037,
     "status": "ok",
     "timestamp": 1537512395435,
     "user": {
      "displayName": "Charmi Chokshi",
      "photoUrl": "//lh4.googleusercontent.com/-tIwAsc-7WUs/AAAAAAAAAAI/AAAAAAAAWas/ld9I8Bwg--Y/s50-c-k-no/photo.jpg",
      "userId": "101083927045647383531"
     },
     "user_tz": -330
    },
    "id": "faTmf-G9j06Y",
    "outputId": "8ad5b358-ef37-42da-d3ee-61e0b7154bbe"
   },
   "outputs": [
    {
     "name": "stdout",
     "output_type": "stream",
     "text": [
      "Test accuracy: 1.0\n",
      "Predicted Output:  [4]\n"
     ]
    }
   ],
   "source": [
    "# evalute on our model\n",
    "score = model.evaluate(img, label, verbose=0)\n",
    "print('Test accuracy:', score[1])\n",
    "\n",
    "pred = model.predict(img)\n",
    "predicted = np.argmax(pred, axis=1)\n",
    "print(\"Predicted Output: \", predicted)"
   ]
  },
  {
   "cell_type": "markdown",
   "metadata": {
    "colab_type": "text",
    "id": "xGTjoHDOwzwR"
   },
   "source": [
    "# Visualization of Model Accuracy and Loss"
   ]
  },
  {
   "cell_type": "code",
   "execution_count": 0,
   "metadata": {
    "colab": {
     "base_uri": "https://localhost:8080/",
     "height": 376
    },
    "colab_type": "code",
    "executionInfo": {
     "elapsed": 1565,
     "status": "ok",
     "timestamp": 1537512397101,
     "user": {
      "displayName": "Charmi Chokshi",
      "photoUrl": "//lh4.googleusercontent.com/-tIwAsc-7WUs/AAAAAAAAAAI/AAAAAAAAWas/ld9I8Bwg--Y/s50-c-k-no/photo.jpg",
      "userId": "101083927045647383531"
     },
     "user_tz": -330
    },
    "id": "UNwT7CiqlBe4",
    "outputId": "af34935c-36b9-436a-aab0-36deee41468d"
   },
   "outputs": [
    {
     "data": {
      "image/png": "[encoded data removed]",
      "text/plain": [
       "<matplotlib.figure.Figure at 0x7f3db26f16d8>"
      ]
     },
     "metadata": {
      "tags": []
     },
     "output_type": "display_data"
    }
   ],
   "source": [
    "plt.plot(history.history[\"acc\"])\n",
    "plt.plot(history.history[\"val_acc\"])\n",
    "plt.title(\"Model Accuracy\")\n",
    "plt.xlabel(\"Epoch\")\n",
    "plt.ylabel(\"Accuracy\")\n",
    "plt.legend([\"train\", \"validation\"], loc=\"upper left\")\n",
    "plt.show()"
   ]
  },
  {
   "cell_type": "code",
   "execution_count": 0,
   "metadata": {
    "colab": {
     "base_uri": "https://localhost:8080/",
     "height": 376
    },
    "colab_type": "code",
    "executionInfo": {
     "elapsed": 2004,
     "status": "ok",
     "timestamp": 1537512399213,
     "user": {
      "displayName": "Charmi Chokshi",
      "photoUrl": "//lh4.googleusercontent.com/-tIwAsc-7WUs/AAAAAAAAAAI/AAAAAAAAWas/ld9I8Bwg--Y/s50-c-k-no/photo.jpg",
      "userId": "101083927045647383531"
     },
     "user_tz": -330
    },
    "id": "5L3M05o7nE1d",
    "outputId": "c350b14b-468f-488a-f2e9-da0d5894b3df"
   },
   "outputs": [
    {
     "data": {
      "image/png": "[encoded data removed]",
      "text/plain": [
       "<matplotlib.figure.Figure at 0x7f3d9756b550>"
      ]
     },
     "metadata": {
      "tags": []
     },
     "output_type": "display_data"
    }
   ],
   "source": [
    "plt.plot(history.history[\"loss\"])\n",
    "plt.plot(history.history[\"val_loss\"])\n",
    "plt.title(\"Model Loss\")\n",
    "plt.xlabel(\"Epoch\")\n",
    "plt.ylabel(\"Loss\")\n",
    "plt.legend([\"train\", \"validation\"], loc=\"upper left\")\n",
    "plt.show()"
   ]
  }
 ],
 "metadata": {
  "accelerator": "GPU",
  "colab": {
   "collapsed_sections": [],
   "name": "Copy of DigitRecognition.ipynb",
   "provenance": [
    {
     "file_id": "1arAJnnTn0wI3KoSSJHg_Hjw40VPPMtP0",
     "timestamp": 1537606974409
    }
   ],
   "version": "0.3.2"
  },
  "kernelspec": {
   "display_name": "Python 2",
   "language": "python",
   "name": "python2"
  },
  "language_info": {
   "codemirror_mode": {
    "name": "ipython",
    "version": 2
   },
   "file_extension": ".py",
   "mimetype": "text/x-python",
   "name": "python",
   "nbconvert_exporter": "python",
   "pygments_lexer": "ipython2",
   "version": "2.7.12"
  }
 },
 "nbformat": 4,
 "nbformat_minor": 1
}
